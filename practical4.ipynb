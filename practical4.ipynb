{
  "nbformat": 4,
  "nbformat_minor": 0,
  "metadata": {
    "colab": {
      "name": "practical4.ipynb",
      "provenance": [],
      "collapsed_sections": [],
      "authorship_tag": "ABX9TyNlrQ6MYzjmJgFfOIDmO3qD",
      "include_colab_link": true
    },
    "kernelspec": {
      "name": "python3",
      "display_name": "Python 3"
    },
    "language_info": {
      "name": "python"
    }
  },
  "cells": [
    {
      "cell_type": "markdown",
      "metadata": {
        "id": "view-in-github",
        "colab_type": "text"
      },
      "source": [
        "<a href=\"https://colab.research.google.com/github/dhruvrajsinhrathavi/python-programming/blob/main/practical4.ipynb\" target=\"_parent\"><img src=\"https://colab.research.google.com/assets/colab-badge.svg\" alt=\"Open In Colab\"/></a>"
      ]
    },
    {
      "cell_type": "markdown",
      "source": [
        "4.1] write a program to remove duplicates from the list"
      ],
      "metadata": {
        "id": "E78PgNY8PSzN"
      }
    },
    {
      "cell_type": "code",
      "execution_count": null,
      "metadata": {
        "id": "C2faRQBZOTng",
        "colab": {
          "base_uri": "https://localhost:8080/"
        },
        "outputId": "de39274f-64d1-4f4d-d2e8-5cff8a3d17af"
      },
      "outputs": [
        {
          "output_type": "stream",
          "name": "stdout",
          "text": [
            "[1, 2, 3, 4, 5]\n"
          ]
        }
      ],
      "source": [
        "def remove_dup(lis):\n",
        "  final=[]\n",
        "  for n in lis:\n",
        "    if n not in final:\n",
        "      final.append(n)\n",
        "  return final   \n",
        "\n",
        "lis=[1,2,2,3,3,4,4,5,5]\n",
        "print(remove_dup(lis))   "
      ]
    },
    {
      "cell_type": "markdown",
      "source": [
        "4.2] write a program to find frequency of list"
      ],
      "metadata": {
        "id": "IKmegYcYPRZW"
      }
    },
    {
      "cell_type": "code",
      "source": [
        "def freq(lis):\n",
        "   frequency = {}\n",
        "   for item in lis:\n",
        "     if item in frequency:\n",
        "      frequency[item] += 1\n",
        "     else:\n",
        "      frequency[item] = 1\n",
        "\n",
        "   return frequency\n",
        "\n",
        "\n",
        "lis=[1,2,21,1,2,2,3,3,4,4,45,6,6]\n",
        "print(freq(lis))\n",
        "      "
      ],
      "metadata": {
        "colab": {
          "base_uri": "https://localhost:8080/"
        },
        "id": "eawfj3C2QhJN",
        "outputId": "e10e0c56-adde-4a15-86ca-84d0469b8150"
      },
      "execution_count": null,
      "outputs": [
        {
          "output_type": "stream",
          "name": "stdout",
          "text": [
            "{1: 2, 2: 3, 21: 1, 3: 2, 4: 2, 45: 1, 6: 2}\n"
          ]
        }
      ]
    },
    {
      "cell_type": "markdown",
      "source": [
        "4.3] Write a program to sort given list."
      ],
      "metadata": {
        "id": "WLtl31DcXPVH"
      }
    },
    {
      "cell_type": "code",
      "source": [
        "lis=[1,9,8,7,6,5,4]\n",
        "n= len(lis)\n",
        "for i in range(n):\n",
        "    for j in range(n-i-1):\n",
        "       if lis[j+1]<lis[j]:\n",
        "         temp=lis[j+1]\n",
        "         lis[j+1]=lis[j]\n",
        "         lis[j]=temp\n",
        "print(lis)\n",
        "\n"
      ],
      "metadata": {
        "colab": {
          "base_uri": "https://localhost:8080/"
        },
        "id": "J9ACddneXZjO",
        "outputId": "99049caf-0f60-4a4d-c64c-358780320e3f"
      },
      "execution_count": null,
      "outputs": [
        {
          "output_type": "stream",
          "name": "stdout",
          "text": [
            "[1, 4, 5, 6, 7, 8, 9]\n"
          ]
        }
      ]
    },
    {
      "cell_type": "markdown",
      "source": [
        "4.4]Write a program for matrix addition and matrix multiplication using list."
      ],
      "metadata": {
        "id": "Tk0d-1L6bv__"
      }
    },
    {
      "cell_type": "code",
      "source": [
        "x=[[1,2,3],\n",
        "   [4,5,6],\n",
        "   [7,8,9]]\n",
        "\n",
        "y=[[1,2,3],\n",
        "   [4,5,6],\n",
        "   [7,8,9]]\n",
        "\n",
        "result=[[0,0,0],\n",
        "        [0,0,0],\n",
        "        [0,0,0]]\n",
        "\n",
        "        \n",
        "for i in range(len(x)):\n",
        "  for j in range(len(x[0])):\n",
        "    result[i][j]=x[i][j]+y[i][j]\n",
        "print (\"result =\",end=\" \")    \n",
        "for r in result:\n",
        "  if r==0:\n",
        "    print(r)\n",
        "  else:\n",
        "    print(\" \",r)\n",
        "\n",
        "\n",
        "\n"
      ],
      "metadata": {
        "colab": {
          "base_uri": "https://localhost:8080/"
        },
        "id": "vcDXjHSUd5GX",
        "outputId": "c36820a7-525b-4cfb-a4e8-f50986da1736"
      },
      "execution_count": 1,
      "outputs": [
        {
          "output_type": "stream",
          "name": "stdout",
          "text": [
            "result =   [2, 4, 6]\n",
            "  [8, 10, 12]\n",
            "  [14, 16, 18]\n"
          ]
        }
      ]
    },
    {
      "cell_type": "code",
      "source": [
        ""
      ],
      "metadata": {
        "id": "z45hIPI6ilto"
      },
      "execution_count": null,
      "outputs": []
    }
  ]
}